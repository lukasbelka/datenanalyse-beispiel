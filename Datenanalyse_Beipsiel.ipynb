{
  "nbformat": 4,
  "nbformat_minor": 0,
  "metadata": {
    "colab": {
      "provenance": [],
      "toc_visible": true,
      "authorship_tag": "ABX9TyOVU29aIfarRw62+qd8m8nW",
      "include_colab_link": true
    },
    "kernelspec": {
      "name": "python3",
      "display_name": "Python 3"
    },
    "language_info": {
      "name": "python"
    }
  },
  "cells": [
    {
      "cell_type": "markdown",
      "metadata": {
        "id": "view-in-github",
        "colab_type": "text"
      },
      "source": [
        "<a href=\"https://colab.research.google.com/github/lukasbelka/datenanalyse-beispiel/blob/main/Datenanalyse_Beipsiel.ipynb\" target=\"_parent\"><img src=\"https://colab.research.google.com/assets/colab-badge.svg\" alt=\"Open In Colab\"/></a>"
      ]
    },
    {
      "cell_type": "markdown",
      "source": [
        "# Datenanalyse Beispiel\n",
        "\n",
        "Dieses Jupyter Notebook muss zu Beginn einmalig über das obere Menü **Runtime -> Run all** gestartet werden. Es enthält den begleitenden Code für den Beitrag [Daten analysieren - Schritt für Schritt](https://www.lukasbelka.com/blog/daten-analysieren). Da das Ziel ist, die Nachvollziehbarkeit eines jeden Schrittes zu gewährleisten, finden sich sich weitaus mehr Code-Blöcke, als es normalerweise der Fall wäre.\n",
        "\n",
        "Generell würde ich einen großen Teil des Codes in wenigen Blöcken zusammenfassen und zum Teil - je nach Fortschritt in der Analyse - auskommentieren, um die Analyse schlank und präzise zu halten.\n",
        "\n",
        "\n",
        "\n",
        "\n",
        "\n",
        "\n"
      ],
      "metadata": {
        "id": "f6WrKViWmem-"
      }
    },
    {
      "cell_type": "code",
      "execution_count": 1,
      "metadata": {
        "colab": {
          "base_uri": "https://localhost:8080/"
        },
        "id": "fv4UiOlhMPhY",
        "outputId": "7915faf4-8fb3-4f54-8fb1-9bec0ebed772"
      },
      "outputs": [
        {
          "output_type": "stream",
          "name": "stdout",
          "text": [
            "Cloning into 'datenanalyse-beispiel'...\n",
            "remote: Enumerating objects: 14, done.\u001b[K\n",
            "remote: Counting objects: 100% (14/14), done.\u001b[K\n",
            "remote: Compressing objects: 100% (13/13), done.\u001b[K\n",
            "remote: Total 14 (delta 4), reused 0 (delta 0), pack-reused 0 (from 0)\u001b[K\n",
            "Receiving objects: 100% (14/14), 456.96 KiB | 2.27 MiB/s, done.\n",
            "Resolving deltas: 100% (4/4), done.\n"
          ]
        }
      ],
      "source": [
        "!git clone https://github.com/lukasbelka/datenanalyse-beispiel.git"
      ]
    },
    {
      "cell_type": "markdown",
      "source": [
        "## Laden der Bibilitoheken"
      ],
      "metadata": {
        "id": "tHfIkRHTxFq7"
      }
    },
    {
      "cell_type": "code",
      "source": [
        "import pandas as pd\n",
        "import numpy as np\n",
        "import matplotlib.pyplot as plt\n",
        "import seaborn as sns"
      ],
      "metadata": {
        "id": "rjx1VsSevrbU"
      },
      "execution_count": 2,
      "outputs": []
    },
    {
      "cell_type": "markdown",
      "source": [
        "## Schritt 1. Daten validieren"
      ],
      "metadata": {
        "id": "yCVqPosjxQW6"
      }
    },
    {
      "cell_type": "markdown",
      "source": [
        "### 1.1 Daten einlesen und Überblick verschaffen"
      ],
      "metadata": {
        "id": "_P3XrBHKyJXD"
      }
    },
    {
      "cell_type": "code",
      "source": [
        "# Datei einlesen\n",
        "df = pd.read_csv(\"/content/datenanalyse-beispiel/produkt-verkaeufe.csv\")\n",
        "\n",
        "# Form der Daten\n",
        "df.shape"
      ],
      "metadata": {
        "id": "5J1cSuSWOHbu",
        "colab": {
          "base_uri": "https://localhost:8080/"
        },
        "outputId": "1036ecc5-3cc6-41f3-c2d0-ec53c1733cb9"
      },
      "execution_count": 4,
      "outputs": [
        {
          "output_type": "execute_result",
          "data": {
            "text/plain": [
              "(15000, 8)"
            ]
          },
          "metadata": {},
          "execution_count": 4
        }
      ]
    },
    {
      "cell_type": "code",
      "source": [
        "# Spalten, Datentypen und leere Zellen anzeigen\n",
        "df.info()"
      ],
      "metadata": {
        "colab": {
          "base_uri": "https://localhost:8080/"
        },
        "id": "7f4u54N4xrT0",
        "outputId": "fc6463ef-a59f-4e73-c03e-6f12b223fbed"
      },
      "execution_count": 5,
      "outputs": [
        {
          "output_type": "stream",
          "name": "stdout",
          "text": [
            "<class 'pandas.core.frame.DataFrame'>\n",
            "RangeIndex: 15000 entries, 0 to 14999\n",
            "Data columns (total 8 columns):\n",
            " #   Column             Non-Null Count  Dtype  \n",
            "---  ------             --------------  -----  \n",
            " 0   week               15000 non-null  int64  \n",
            " 1   sales_method       15000 non-null  object \n",
            " 2   customer_id        15000 non-null  object \n",
            " 3   nb_sold            15000 non-null  int64  \n",
            " 4   revenue            13926 non-null  float64\n",
            " 5   years_as_customer  15000 non-null  int64  \n",
            " 6   nb_site_visits     15000 non-null  int64  \n",
            " 7   state              15000 non-null  object \n",
            "dtypes: float64(1), int64(4), object(3)\n",
            "memory usage: 937.6+ KB\n"
          ]
        }
      ]
    },
    {
      "cell_type": "markdown",
      "source": [
        "### 1.2 Logische Checks"
      ],
      "metadata": {
        "id": "5vepddF7x4yS"
      }
    },
    {
      "cell_type": "code",
      "source": [
        "# Jede Spalte logisch prüfen\n",
        "\n",
        "print(f\"Wochen: {df['week'].unique()}\")\n",
        "\n",
        "print(f\"Kundengruppen: {df['sales_method'].unique()}\")\n",
        "\n",
        "print(f\"Anzahl Kunden: {df['customer_id'].nunique()}\")\n",
        "\n",
        "print(df[['nb_sold', 'revenue', 'years_as_customer', 'nb_site_visits']].describe())\n",
        "\n",
        "print(f\"Anzahl Bundesstaaten: {df['state'].nunique()}\")"
      ],
      "metadata": {
        "colab": {
          "base_uri": "https://localhost:8080/"
        },
        "id": "cUiTGW4lyANZ",
        "outputId": "b0bb30ea-51fb-431e-9194-5d743bea532f"
      },
      "execution_count": 6,
      "outputs": [
        {
          "output_type": "stream",
          "name": "stdout",
          "text": [
            "Wochen: [2 6 5 4 3 1]\n",
            "Kundengruppen: ['Email' 'Email + Call' 'Call' 'em + call' 'email']\n",
            "Anzahl Kunden: 15000\n",
            "            nb_sold       revenue  years_as_customer  nb_site_visits\n",
            "count  15000.000000  13926.000000       15000.000000    15000.000000\n",
            "mean      10.084667     93.934943           4.965933       24.990867\n",
            "std        1.812213     47.435312           5.044952        3.500914\n",
            "min        7.000000     32.540000           0.000000       12.000000\n",
            "25%        9.000000     52.470000           1.000000       23.000000\n",
            "50%       10.000000     89.500000           3.000000       25.000000\n",
            "75%       11.000000    107.327500           7.000000       27.000000\n",
            "max       16.000000    238.320000          63.000000       41.000000\n",
            "Anzahl Bundesstaaten: 50\n"
          ]
        }
      ]
    },
    {
      "cell_type": "markdown",
      "source": [
        "## Schritt 2. Daten bereinigen"
      ],
      "metadata": {
        "id": "STkhWPt-GuL1"
      }
    },
    {
      "cell_type": "markdown",
      "source": [
        "### 2.1. Daten bereinigen"
      ],
      "metadata": {
        "id": "tAYV_V4bG0PE"
      }
    },
    {
      "cell_type": "code",
      "source": [
        "# Fehlerhafte Kudengruppen bereinigen und WErte ersetzten\n",
        "df['sales_method'] = df['sales_method'].replace({'em + call': 'Email + Call', 'email': 'Email'})\n",
        "print(f\"Bereinigte Kundengruppen: {df['sales_method'].unique()}\")\n",
        "\n",
        "# Zeilen mit leerem Umsatz löschen\n",
        "df_cleaned = df.dropna(subset=['revenue']).copy()\n",
        "print(f\"Anzahl der NaN-Werte: {df_cleaned['revenue'].isna().sum()}\")\n",
        "\n",
        "# Dauer der Kundenbeziehung bei 39 Jahren kappen\n",
        "df_cleaned['years_as_customer'] = df_cleaned['years_as_customer'].clip(upper=39)\n",
        "print(f\"Maximale Dauer der Kundenbeziehung: {df['years_as_customer'].max()}\")"
      ],
      "metadata": {
        "colab": {
          "base_uri": "https://localhost:8080/"
        },
        "id": "dI4s4fQhG3G8",
        "outputId": "82005a76-4e79-408e-954a-62f4f697f876"
      },
      "execution_count": 11,
      "outputs": [
        {
          "output_type": "stream",
          "name": "stdout",
          "text": [
            "Bereinigte Kundengruppen: ['Email' 'Email + Call' 'Call']\n",
            "Anzahl der NaN-Werte: 0\n",
            "Maximale Dauer der Kundenbeziehung: 63\n"
          ]
        }
      ]
    },
    {
      "cell_type": "markdown",
      "source": [
        "### 2.2 Daten anreichern"
      ],
      "metadata": {
        "id": "Am9_TCI_KdL8"
      }
    },
    {
      "cell_type": "code",
      "source": [
        "# Gruppen für die Dauer der Kundenbeziehung erstellen\n",
        "segment_ranges = [-0.1, 5, 10, np.inf]\n",
        "segment_labels = ['<5', '5-10', '>10']\n",
        "df_cleaned['customer_segment'] = pd.cut(df_cleaned['years_as_customer'], bins=segment_ranges, labels=segment_labels)\n",
        "\n",
        "#Check der Erstellung\n",
        "print(df_cleaned['customer_segment'].value_counts())\n",
        "\n",
        "#Check der Anzahl der Werte\n",
        "print(f\"Gesamtanzahl neuer Werte: {df_cleaned['customer_segment'].value_counts().sum()}\")"
      ],
      "metadata": {
        "colab": {
          "base_uri": "https://localhost:8080/"
        },
        "id": "VnMpmu1hKhaT",
        "outputId": "bfec7b57-5a6f-4a9d-969f-1e74e40c96b5"
      },
      "execution_count": 12,
      "outputs": [
        {
          "output_type": "stream",
          "name": "stdout",
          "text": [
            "customer_segment\n",
            "<5      9299\n",
            "5-10    2924\n",
            ">10     1703\n",
            "Name: count, dtype: int64\n",
            "Gesamtanzahl neuer Werte: 13926\n"
          ]
        }
      ]
    },
    {
      "cell_type": "code",
      "source": [
        "# Abschließender Check\n",
        "df_cleaned.info()"
      ],
      "metadata": {
        "colab": {
          "base_uri": "https://localhost:8080/"
        },
        "id": "3f4iGv4RKtJJ",
        "outputId": "63e9b6a6-2abe-4d94-9f0f-4340c948649d"
      },
      "execution_count": 13,
      "outputs": [
        {
          "output_type": "stream",
          "name": "stdout",
          "text": [
            "<class 'pandas.core.frame.DataFrame'>\n",
            "Index: 13926 entries, 1 to 14998\n",
            "Data columns (total 9 columns):\n",
            " #   Column             Non-Null Count  Dtype   \n",
            "---  ------             --------------  -----   \n",
            " 0   week               13926 non-null  int64   \n",
            " 1   sales_method       13926 non-null  object  \n",
            " 2   customer_id        13926 non-null  object  \n",
            " 3   nb_sold            13926 non-null  int64   \n",
            " 4   revenue            13926 non-null  float64 \n",
            " 5   years_as_customer  13926 non-null  int64   \n",
            " 6   nb_site_visits     13926 non-null  int64   \n",
            " 7   state              13926 non-null  object  \n",
            " 8   customer_segment   13926 non-null  category\n",
            "dtypes: category(1), float64(1), int64(4), object(3)\n",
            "memory usage: 992.9+ KB\n"
          ]
        }
      ]
    },
    {
      "cell_type": "markdown",
      "source": [
        "## Schritt 3. Datenanalyse\n",
        "\n",
        "Wie teilen sich die Kundengruppen auf?\n",
        "\n",
        "Erläuterung im Beitrag [Daten analysieren - Schritt für Schritt](https://www.lukasbelka.com/blog/daten-analysieren)."
      ],
      "metadata": {
        "id": "UH7olwBxK2vr"
      }
    },
    {
      "cell_type": "code",
      "source": [],
      "metadata": {
        "id": "VMk8yn3qLLko"
      },
      "execution_count": null,
      "outputs": []
    }
  ]
}